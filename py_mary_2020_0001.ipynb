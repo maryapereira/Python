{
 "cells": [
  {
   "cell_type": "markdown",
   "metadata": {},
   "source": [
    "# Exercícios"
   ]
  },
  {
   "cell_type": "markdown",
   "metadata": {},
   "source": [
    "## 1) Inicie uma variável com o valor “josé da silva martins” e converta para o formato “José Da Silva Martins”, com uma única operação. Utilize string e/ou capwords.\n"
   ]
  },
  {
   "cell_type": "code",
   "execution_count": 27,
   "metadata": {},
   "outputs": [
    {
     "name": "stdout",
     "output_type": "stream",
     "text": [
      "José Da Silva Martins\n"
     ]
    }
   ],
   "source": [
    "# resposta 1  \n",
    "import string \n",
    "# sep parameter is left None \n",
    "formatted = string.capwords('josé da silva martins', sep = None) \n",
    "print(formatted) "
   ]
  },
  {
   "cell_type": "markdown",
   "metadata": {},
   "source": [
    "## 2) Crie uma função que verifique se um determinado número é ímpar, sendo ímpar deverá retornar verdadeiro e falso o contrário."
   ]
  },
  {
   "cell_type": "code",
   "execution_count": 1,
   "metadata": {},
   "outputs": [
    {
     "name": "stdout",
     "output_type": "stream",
     "text": [
      "False\n"
     ]
    }
   ],
   "source": [
    "# resposta 2\n",
    "#def numero_impar(numero = float(input('Digite um número para saber se é par ou impar:'))):\n",
    "def numero_impar(numero):\n",
    "    resto = numero % 2\n",
    "    if (resto == 0):\n",
    "        return False\n",
    "    else:\n",
    "        return True \n",
    "print(numero_impar(2))"
   ]
  },
  {
   "cell_type": "markdown",
   "metadata": {},
   "source": [
    "## 3) Dado uma lista l = [1.2232, 2.322, 43.23131, 6.34324, 78.3243] transforme seus valores para que ao final tenhamos números arrendados na segunda casa decimal. Utilize a função built-in round(numero, casas_decimais)\n"
   ]
  },
  {
   "cell_type": "code",
   "execution_count": 2,
   "metadata": {},
   "outputs": [
    {
     "name": "stdout",
     "output_type": "stream",
     "text": [
      "2.22 => 1.2232\n",
      "3.32 => 2.322\n",
      "44.23 => 43.23131\n",
      "7.34 => 6.34324\n",
      "79.32 => 78.3243\n"
     ]
    }
   ],
   "source": [
    "# resposta 3\n",
    "l = [1.2232, 2.322, 43.23131, 6.34324, 78.3243]\n",
    "for lista in l:\n",
    "    print (round(lista + 1, 2), '=>', lista)"
   ]
  },
  {
   "cell_type": "markdown",
   "metadata": {},
   "source": [
    "## 4) Crie uma função que retorne na forma de um dicionário as seguintes informações do texto abaixo: número de palavras (e palavras), número de números (e números) e número de frases (e frases). Utilize a função built-in isdigit() do pacote string para verificar se determinado caractere é número e split(separador) para criar uma lista a partir do caracatere ou token de separação."
   ]
  },
  {
   "cell_type": "markdown",
   "metadata": {},
   "source": [
    "Brasil, oficialmente República Federativa do Brasil é o maior país da América do Sul e da região da América Latina, sendo o quinto maior do mundo em área territorial (equivalente a 47 porcento do território sul-americano) e sexto em população (com mais de 200 milhões de habitantes). É o único país na América onde se fala majoritariamente a língua portuguesa e o maior país lusófono do planeta, além de ser uma das nações mais multiculturais e etnicamente diversas, em decorrência da forte imigração oriunda de variados locais do mundo."
   ]
  },
  {
   "cell_type": "code",
   "execution_count": 16,
   "metadata": {},
   "outputs": [
    {
     "name": "stdout",
     "output_type": "stream",
     "text": [
      "['Brasil,', 'oficialmente', 'República', 'Federativa', 'do', 'Brasil', 'é', 'o', 'maior', 'país', 'da', 'América', 'do', 'Sul', 'e', 'da', 'região', 'da', 'América', 'Latina,', 'sendo', 'o', 'quinto', 'maior', 'do', 'mundo', 'em', 'área', 'territorial', '(equivalente', 'a', 'porcento', 'do', 'território', 'sul-americano)', 'e', 'sexto', 'em', 'população', '(com', 'mais', 'de', 'milhões', 'de', 'habitantes).', 'É', 'o', 'único', 'país', 'na', 'América', 'onde', 'se', 'fala', 'majoritariamente', 'a', 'língua', 'portuguesa', 'e', 'o', 'maior', 'país', 'lusófono', 'do', 'planeta,', 'além', 'de', 'ser', 'uma', 'das', 'nações', 'mais', 'multiculturais', 'e', 'etnicamente', 'diversas,', 'em', 'decorrência', 'da', 'forte', 'imigração', 'oriunda', 'de', 'variados', 'locais', 'do', 'mundo.']\n",
      "87\n",
      "{'NumerodePalavras': 87, 'Palavras': ['Brasil,', 'oficialmente', 'República', 'Federativa', 'do', 'Brasil', 'é', 'o', 'maior', 'país', 'da', 'América', 'do', 'Sul', 'e', 'da', 'região', 'da', 'América', 'Latina,', 'sendo', 'o', 'quinto', 'maior', 'do', 'mundo', 'em', 'área', 'territorial', '(equivalente', 'a', 'porcento', 'do', 'território', 'sul-americano)', 'e', 'sexto', 'em', 'população', '(com', 'mais', 'de', 'milhões', 'de', 'habitantes).', 'É', 'o', 'único', 'país', 'na', 'América', 'onde', 'se', 'fala', 'majoritariamente', 'a', 'língua', 'portuguesa', 'e', 'o', 'maior', 'país', 'lusófono', 'do', 'planeta,', 'além', 'de', 'ser', 'uma', 'das', 'nações', 'mais', 'multiculturais', 'e', 'etnicamente', 'diversas,', 'em', 'decorrência', 'da', 'forte', 'imigração', 'oriunda', 'de', 'variados', 'locais', 'do', 'mundo.'], 'NumerodeNumeros': 2, 'Numeros': ['47', '200'], 'NumeroDeFrases': 3, 'Frases': ['Brasil, oficialmente República Federativa do Brasil é o maior país da América do Sul e da região da América Latina, sendo o quinto maior do mundo em área territorial (equivalente a 47 porcento do território sul-americano) e sexto em população (com mais de 200 milhões de habitantes)', ' É o único país na América onde se fala majoritariamente a língua portuguesa e o maior país lusófono do planeta, além de ser uma das nações mais multiculturais e etnicamente diversas, em decorrência da forte imigração oriunda de variados locais do mundo', '']}\n"
     ]
    }
   ],
   "source": [
    "\n",
    "\n",
    "def FunDic(textoCompleto):\n",
    "    listaCompleta = textoCompleto.split()\n",
    "    #print(listaCompleta)\n",
    "    #print(len(listaCompleta))\n",
    "\n",
    "    numeros = [numero for numero in listaCompleta if numero.isdigit()]    \n",
    "    qtdNumeros = len(numeros)\n",
    "    #print(numeros)\n",
    "    #print(qtdNumeros)\n",
    "\n",
    "    #palavras = [palavra for palavra in listaCompleta if palavra.isalpha()] resultado 78 devido aos caracteres especiais\n",
    "    palavras = [palavra for palavra in listaCompleta if palavra.isdigit() == False]\n",
    "    print(palavras)\n",
    "    qtdPalavras = len(palavras)\n",
    "    print(qtdPalavras)\n",
    "\n",
    "    frases = textoCompleto.split('.')\n",
    "    qtdFrases = len(frases)\n",
    "    #print(frases)\n",
    "    #print(len(frases))\n",
    "\n",
    "    Dicionario = {'NumerodePalavras':qtdPalavras,'Palavras':palavras,'NumerodeNumeros':qtdNumeros,'Numeros':numeros,'NumeroDeFrases':qtdFrases,'Frases':frases} #cria um dicionário          \n",
    "\n",
    "    return (Dicionario)\n",
    "\n",
    "textoCompleto = 'Brasil, oficialmente República Federativa do Brasil é o maior país da América do Sul e da região da América Latina, sendo o quinto maior do mundo em área territorial (equivalente a 47 porcento do território sul-americano) e sexto em população (com mais de 200 milhões de habitantes). É o único país na América onde se fala majoritariamente a língua portuguesa e o maior país lusófono do planeta, além de ser uma das nações mais multiculturais e etnicamente diversas, em decorrência da forte imigração oriunda de variados locais do mundo.'\n",
    "print(FunDic(textoCompleto))\n",
    "\n",
    "        \n",
    "\n"
   ]
  },
  {
   "cell_type": "markdown",
   "metadata": {},
   "source": [
    "## 5) Implemente um algoritmo que calcule o fatorial de número de modo não-recursivo"
   ]
  },
  {
   "cell_type": "code",
   "execution_count": 3,
   "metadata": {},
   "outputs": [
    {
     "data": {
      "text/plain": [
       "2432902008176640000"
      ]
     },
     "execution_count": 3,
     "metadata": {},
     "output_type": "execute_result"
    }
   ],
   "source": [
    "# resposta 5\n",
    "def FunFatorial(n):\n",
    "    fatorial = 1\n",
    "    i = n\n",
    "    while i != 0:\n",
    "        fatorial *= i;\n",
    "        i -= 1\n",
    "    return(fatorial)\n",
    "    \n",
    "FunFatorial(20)"
   ]
  },
  {
   "cell_type": "markdown",
   "metadata": {},
   "source": [
    "## 6) Implemente duas funções:\n",
    "> Uma que converta graus Celsius para Fahrenheit\n",
    "\n",
    "> Outra que converta graus Fahrenheit para Celsius\n",
    "\n",
    "> 𝐹=  9/5×𝐶+32"
   ]
  },
  {
   "cell_type": "code",
   "execution_count": 35,
   "metadata": {},
   "outputs": [
    {
     "name": "stdout",
     "output_type": "stream",
     "text": [
      "50.0\n",
      "10.0\n"
     ]
    }
   ],
   "source": [
    "# resposta 6\n",
    "def FcelsiusFahrenheit(c):\n",
    "    # (0 °C × 9/5) + 32 = 32 °F\n",
    "    f = (c * 9 / 5) + 32\n",
    "    return(f)\n",
    "\n",
    "print(FcelsiusFahrenheit(10))\n",
    "\n",
    "# resposta 6\n",
    "def FfahrenheitCelsius(f):\n",
    "    # (32 °F − 32) × 5/9 = 0 °C\n",
    "    c =  (f - 32) * 5/9\n",
    "    return(c)\n",
    "\n",
    "print(FfahrenheitCelsius(50))"
   ]
  },
  {
   "cell_type": "markdown",
   "metadata": {},
   "source": [
    "## 7) Implemente uma função que receba uma lista com 100 números, de 0 a 100, e retorne outra lista contendo apenas os números primos. \n",
    "    > Use numpy.arange para gerar a lista"
   ]
  },
  {
   "cell_type": "code",
   "execution_count": 43,
   "metadata": {},
   "outputs": [
    {
     "name": "stdout",
     "output_type": "stream",
     "text": [
      "[2, 3, 5, 7, 11, 13, 17, 19, 23, 29, 31, 37, 41, 43, 47, 53, 59, 61, 67, 71, 73, 79, 83, 89, 97]\n"
     ]
    }
   ],
   "source": [
    "def NumPrimo(NumMaxItemLista):\n",
    "    import numpy as np\n",
    "\n",
    "    primos = []\n",
    "    numeros = np.arange(NumMaxItemLista)\n",
    "    for count in numeros:\n",
    "        numero = numeros[count]\n",
    "        if numero != 0 and numero !=1 :\n",
    "            divisores = 0\n",
    "            for divisor in range(1, numero):\n",
    "                if numero % divisor == 0:\n",
    "                    divisores = divisores + 1\n",
    "                    if divisores > 1:\n",
    "                      break\n",
    "            if divisores > 1:\n",
    "                pass\n",
    "            else:\n",
    "              #print(\"é primo\",numero)\n",
    "               primos.append(numero)\n",
    "    return(primos)\n",
    "\n",
    "   \n",
    "print(NumPrimo(101))"
   ]
  },
  {
   "cell_type": "code",
   "execution_count": null,
   "metadata": {},
   "outputs": [],
   "source": []
  }
 ],
 "metadata": {
  "kernelspec": {
   "display_name": "Python 3",
   "language": "python",
   "name": "python3"
  },
  "language_info": {
   "codemirror_mode": {
    "name": "ipython",
    "version": 3
   },
   "file_extension": ".py",
   "mimetype": "text/x-python",
   "name": "python",
   "nbconvert_exporter": "python",
   "pygments_lexer": "ipython3",
   "version": "3.7.3"
  }
 },
 "nbformat": 4,
 "nbformat_minor": 4
}
