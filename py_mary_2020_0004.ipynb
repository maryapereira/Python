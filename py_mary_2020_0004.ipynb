{
 "cells": [
  {
   "cell_type": "markdown",
   "metadata": {},
   "source": [
    "# Exercícios"
   ]
  },
  {
   "cell_type": "markdown",
   "metadata": {},
   "source": [
    "## 1) Considerando o código abaixo, faça:\n",
    "    -> Crie um df a partir de data cujo index seja labels. Faça os imports necessários\n",
    "    -> Preencha os valores faltantes com a média dos valores\n",
    "    -> Retorne uma lista dos animais únicos\n",
    "    -> Compute as estatísticas básicas (contagem, soma, média, desvio padrão e variância)"
   ]
  },
  {
   "cell_type": "code",
   "execution_count": 11,
   "metadata": {},
   "outputs": [],
   "source": [
    "# resposta 1a\n",
    "import pandas as pd\n",
    "import numpy as np\n"
   ]
  },
  {
   "cell_type": "code",
   "execution_count": 12,
   "metadata": {},
   "outputs": [],
   "source": [
    "data = {'animal': ['cat', 'cat', 'snake', 'dog', 'dog', 'cat', 'snake', 'cat', 'dog', 'dog'],\n",
    "        'age': [2.5, 3, 0.5, np.nan, 5, 2, 4.5, np.nan, 7, 3],\n",
    "        'visits': [1, 3, 2, 3, 2, 3, 1, 1, 2, 1],\n",
    "        'priority': ['yes', 'yes', 'no', 'yes', 'no', 'no', 'no', 'yes', 'no', 'no']}\n",
    "\n",
    "labels = ['a', 'b', 'c', 'd', 'e', 'f', 'g', 'h', 'i', 'j']"
   ]
  },
  {
   "cell_type": "code",
   "execution_count": 13,
   "metadata": {},
   "outputs": [
    {
     "name": "stdout",
     "output_type": "stream",
     "text": [
      "  animal  age  visits priority\n",
      "0    cat  2.5       1      yes\n",
      "1    cat  3.0       3      yes\n",
      "2  snake  0.5       2       no\n",
      "3    dog  NaN       3      yes\n",
      "4    dog  5.0       2       no\n",
      "5    cat  2.0       3       no\n",
      "6  snake  4.5       1       no\n",
      "7    cat  NaN       1      yes\n",
      "8    dog  7.0       2       no\n",
      "9    dog  3.0       1       no\n"
     ]
    }
   ],
   "source": [
    "# resposta 1a\n",
    "df = pd.DataFrame(data)\n",
    "print(df)   "
   ]
  },
  {
   "cell_type": "code",
   "execution_count": 14,
   "metadata": {},
   "outputs": [
    {
     "name": "stdout",
     "output_type": "stream",
     "text": [
      "  animal  age  visits priority\n",
      "a    cat  2.5       1      yes\n",
      "b    cat  3.0       3      yes\n",
      "c  snake  0.5       2       no\n",
      "d    dog  NaN       3      yes\n",
      "e    dog  5.0       2       no\n",
      "f    cat  2.0       3       no\n",
      "g  snake  4.5       1       no\n",
      "h    cat  NaN       1      yes\n",
      "i    dog  7.0       2       no\n",
      "j    dog  3.0       1       no\n"
     ]
    }
   ],
   "source": [
    "# resposta 1a\n",
    "df = pd.DataFrame(data, labels)\n",
    "print(df)  "
   ]
  },
  {
   "cell_type": "code",
   "execution_count": 15,
   "metadata": {},
   "outputs": [
    {
     "name": "stdout",
     "output_type": "stream",
     "text": [
      "  animal     age  visits priority\n",
      "a    cat  2.5000       1      yes\n",
      "b    cat  3.0000       3      yes\n",
      "c  snake  0.5000       2       no\n",
      "d    dog  3.4375       3      yes\n",
      "e    dog  5.0000       2       no\n",
      "f    cat  2.0000       3       no\n",
      "g  snake  4.5000       1       no\n",
      "h    cat  3.4375       1      yes\n",
      "i    dog  7.0000       2       no\n",
      "j    dog  3.0000       1       no\n"
     ]
    }
   ],
   "source": [
    "# resposta 1b\n",
    "print(df.fillna(df.mean()))"
   ]
  },
  {
   "cell_type": "code",
   "execution_count": 16,
   "metadata": {},
   "outputs": [
    {
     "name": "stdout",
     "output_type": "stream",
     "text": [
      "a      cat\n",
      "b      cat\n",
      "c    snake\n",
      "d      dog\n",
      "e      dog\n",
      "f      cat\n",
      "g    snake\n",
      "h      cat\n",
      "i      dog\n",
      "j      dog\n",
      "Name: animal, dtype: object\n",
      "['cat' 'snake' 'dog']\n"
     ]
    }
   ],
   "source": [
    "# resposta 1c\n",
    "dfuniques = df['animal']\n",
    "print(dfuniques)\n",
    "print(dfuniques.unique())\n",
    "#uniques = obj.unique()"
   ]
  },
  {
   "cell_type": "code",
   "execution_count": 17,
   "metadata": {},
   "outputs": [
    {
     "name": "stdout",
     "output_type": "stream",
     "text": [
      "animal      catcatsnakedogdogcatsnakecatdogdog\n",
      "age                                       27.5\n",
      "visits                                      19\n",
      "priority              yesyesnoyesnononoyesnono\n",
      "dtype: object\n",
      "a    3.5\n",
      "b    6.0\n",
      "c    2.5\n",
      "d    3.0\n",
      "e    7.0\n",
      "f    5.0\n",
      "g    5.5\n",
      "h    1.0\n",
      "i    9.0\n",
      "j    4.0\n",
      "dtype: float64\n",
      "animal      10\n",
      "age          8\n",
      "visits      10\n",
      "priority    10\n",
      "dtype: int64\n"
     ]
    }
   ],
   "source": [
    "# resposta 1d\n",
    "df.describe()\n",
    "print(df.sum())\n",
    "print(df.sum(axis=1))\n",
    "print(df.count())"
   ]
  },
  {
   "cell_type": "markdown",
   "metadata": {},
   "source": [
    "## 2) Considerando o mesmo código, faça:\n",
    "    -> Crie uma função que multiplique o número de visitas por 2. Retorne o data frame completo com valores atualizados\n",
    "    -> Crie uma função que insere uma coluna que contenha um ranking dos animais mais visitados. Retorne o dataframe ordenado de forma descendente\n",
    "    -> Verifique se os animais da seguinte lista pertencem aos dados originais: New_animals = [‘cow’,’horse’,shark’]"
   ]
  },
  {
   "cell_type": "code",
   "execution_count": 18,
   "metadata": {},
   "outputs": [
    {
     "data": {
      "text/plain": [
       "a    2\n",
       "b    6\n",
       "c    4\n",
       "d    6\n",
       "e    4\n",
       "f    6\n",
       "g    2\n",
       "h    2\n",
       "i    4\n",
       "j    2\n",
       "Name: visits, dtype: int64"
      ]
     },
     "execution_count": 18,
     "metadata": {},
     "output_type": "execute_result"
    }
   ],
   "source": [
    "# resposta 2a\n",
    "def MultVisits(x):   \n",
    "    return (x*2)\n",
    "   \n",
    "df['visits'].apply(MultVisits)   \n",
    "\n",
    "    #dfVisits = df['visits']    \n",
    "    #print(dfVisits)\n",
    "    #dfVisits2 = dfVisits = df['visits'] *2\n",
    "    #print(dfVisits2)\n"
   ]
  },
  {
   "cell_type": "code",
   "execution_count": 21,
   "metadata": {},
   "outputs": [
    {
     "name": "stdout",
     "output_type": "stream",
     "text": [
      "  animal  age  visits priority  rank\n",
      "a    cat  2.5       1      yes   2.5\n",
      "b    cat  3.0       3      yes   2.5\n",
      "c  snake  0.5       2       no   9.5\n",
      "d    dog  NaN       3      yes   6.5\n",
      "e    dog  5.0       2       no   6.5\n",
      "f    cat  2.0       3       no   2.5\n",
      "g  snake  4.5       1       no   9.5\n",
      "h    cat  NaN       1      yes   2.5\n",
      "i    dog  7.0       2       no   6.5\n",
      "j    dog  3.0       1       no   6.5\n"
     ]
    }
   ],
   "source": [
    "# resposta 2b\n",
    "def insCol():\n",
    "    df['animal'].rank()\n",
    "    df['rank'] = df['animal'].rank()\n",
    "    return(df)\n",
    "#df\n",
    "x = insCol()\n",
    "print(x)"
   ]
  },
  {
   "cell_type": "code",
   "execution_count": 54,
   "metadata": {},
   "outputs": [
    {
     "data": {
      "text/plain": [
       "0    False\n",
       "1    False\n",
       "2    False\n",
       "3    False\n",
       "4    False\n",
       "5    False\n",
       "6    False\n",
       "7    False\n",
       "8    False\n",
       "9    False\n",
       "Name: animal, dtype: bool"
      ]
     },
     "execution_count": 54,
     "metadata": {},
     "output_type": "execute_result"
    }
   ],
   "source": [
    "# resposta 2c\n",
    "New_animals = ['cow','horse','shark']\n",
    "df['animal'].isin(New_animals)\n"
   ]
  },
  {
   "cell_type": "markdown",
   "metadata": {},
   "source": [
    "## 3) Crie uma função que filtre as linhas do df no código abaixo de acordo com a palavra-chave passada como parâmetro (apenas estado):"
   ]
  },
  {
   "cell_type": "code",
   "execution_count": 29,
   "metadata": {},
   "outputs": [
    {
     "name": "stdout",
     "output_type": "stream",
     "text": [
      "          DateofBirth State\n",
      "Jane       1986-11-11    NY\n",
      "Nick       1999-05-12    TX\n",
      "Aaron      1976-01-01    FL\n",
      "Penelope   1986-06-01    AL\n",
      "Dean       1983-06-04    AK\n",
      "Christina  1990-03-07    TX\n",
      "Cornelia   1999-07-09    TX\n"
     ]
    }
   ],
   "source": [
    "df = pd.DataFrame({'DateofBirth':['1986-11-11','1999-05-12','1976-01-01',\n",
    "                                  '1986-06-01','1983-06-04','1990-03-07',\n",
    "                                  '1999-07-09'],\n",
    "                   'State':['NY','TX','FL','AL','AK','TX','TX']},\n",
    "                 index=['Jane','Nick','Aaron','Penelope','Dean',\n",
    "                        'Christina','Cornelia'])\n",
    "print(df)"
   ]
  },
  {
   "cell_type": "code",
   "execution_count": 31,
   "metadata": {},
   "outputs": [
    {
     "data": {
      "text/html": [
       "<div>\n",
       "<style scoped>\n",
       "    .dataframe tbody tr th:only-of-type {\n",
       "        vertical-align: middle;\n",
       "    }\n",
       "\n",
       "    .dataframe tbody tr th {\n",
       "        vertical-align: top;\n",
       "    }\n",
       "\n",
       "    .dataframe thead th {\n",
       "        text-align: right;\n",
       "    }\n",
       "</style>\n",
       "<table border=\"1\" class=\"dataframe\">\n",
       "  <thead>\n",
       "    <tr style=\"text-align: right;\">\n",
       "      <th></th>\n",
       "      <th>DateofBirth</th>\n",
       "      <th>State</th>\n",
       "    </tr>\n",
       "  </thead>\n",
       "  <tbody>\n",
       "    <tr>\n",
       "      <th>Jane</th>\n",
       "      <td>1986-11-11</td>\n",
       "      <td>NY</td>\n",
       "    </tr>\n",
       "  </tbody>\n",
       "</table>\n",
       "</div>"
      ],
      "text/plain": [
       "     DateofBirth State\n",
       "Jane  1986-11-11    NY"
      ]
     },
     "execution_count": 31,
     "metadata": {},
     "output_type": "execute_result"
    }
   ],
   "source": [
    "df\n",
    "#df['State']\n",
    "#df.filter(like='NY')\n",
    "\n",
    "\n",
    "def acharEstado(dframe, estado):\n",
    "    estado = dframe[dframe['State'] == estado]\n",
    "    return estado\n",
    "\n",
    "acharEstado(df, 'NY')\n"
   ]
  },
  {
   "cell_type": "code",
   "execution_count": null,
   "metadata": {},
   "outputs": [],
   "source": []
  }
 ],
 "metadata": {
  "kernelspec": {
   "display_name": "Python 3",
   "language": "python",
   "name": "python3"
  },
  "language_info": {
   "codemirror_mode": {
    "name": "ipython",
    "version": 3
   },
   "file_extension": ".py",
   "mimetype": "text/x-python",
   "name": "python",
   "nbconvert_exporter": "python",
   "pygments_lexer": "ipython3",
   "version": "3.7.3"
  }
 },
 "nbformat": 4,
 "nbformat_minor": 4
}
