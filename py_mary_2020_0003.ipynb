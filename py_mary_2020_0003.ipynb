{
 "cells": [
  {
   "cell_type": "markdown",
   "metadata": {},
   "source": [
    "# Exercícios"
   ]
  },
  {
   "cell_type": "markdown",
   "metadata": {},
   "source": [
    "## 1) Crie uma classe que irá modelar características geométricas de um círculo. Deverá implementar os métodos:\n",
    "        -> Área \n",
    "        -> Perímetro\n",
    "## Utilize atributos de classe e de instância apropriados. Crie um inicializador e métodos.\n",
    "$area = \\pi*r^2$\n",
    "\n",
    "$perimetro = 2*\\pi*r$"
   ]
  },
  {
   "cell_type": "code",
   "execution_count": 1,
   "metadata": {},
   "outputs": [],
   "source": [
    "# resposta 1\n",
    "import math\n",
    "class Circulo:\n",
    "\n",
    "    def __init__(self, raio):\n",
    "        self.raio = raio\n",
    "        self.pi   = 3.14\n",
    "       \n",
    "    def area(self):\n",
    "        return math.sqrt(self.raio) * self.pi\n",
    "            \n",
    "    def perimetro(self):\n",
    "        return 2 * self.raio * self.pi"
   ]
  },
  {
   "cell_type": "code",
   "execution_count": 2,
   "metadata": {},
   "outputs": [
    {
     "name": "stdout",
     "output_type": "stream",
     "text": [
      "7.021253449349341\n",
      "31.400000000000002\n"
     ]
    }
   ],
   "source": [
    "# Instanciamento\n",
    "obj = Circulo(5)\n",
    "obj.raio\n",
    "area = obj.area()\n",
    "perimetro = obj.perimetro()\n",
    "\n",
    "print(area)\n",
    "print(perimetro)"
   ]
  },
  {
   "cell_type": "markdown",
   "metadata": {},
   "source": [
    "## 2) Crie uma classe chamada matemática que conterá duas classes: trigonométrica e algébrica. Defina dentro da classe trigonométrica as seguintes funções:\n",
    "    -> seno\n",
    "    -> cosseno\n",
    "    -> tangente\n",
    "## Defina dentro da classe algébrica as seguintes funções: \n",
    "    -> soma\n",
    "    -> subtração\n",
    "    -> multiplicação\n",
    "    -> divisão\n",
    "## Cada função deverá receber array e retornar array"
   ]
  },
  {
   "cell_type": "code",
   "execution_count": 28,
   "metadata": {},
   "outputs": [],
   "source": [
    "# resposta 2\n",
    "import math\n",
    "import numpy as np\n",
    "\n",
    "class Matematica(object):       \n",
    "        \n",
    "    class Trigonometrica(object):\n",
    "\n",
    "        def __init__(self):\n",
    "            self.Listanumero = np.array(object.ListaNumero)\n",
    "\n",
    "        def seno(self):\n",
    "            return math.sin(self.ListaNumero)\n",
    "           \n",
    "        def cosseno(self):\n",
    "            return math.cos(self.ListaNumero)\n",
    "\n",
    "        def tangente(self):\n",
    "            return math.tan(self.ListaNumero)\n",
    "    \n",
    "    class Algebrica(object):\n",
    "\n",
    "        def __init__(self,ListaNumero ):\n",
    "            self.ListaNumero = ListaNumero\n",
    "\n",
    "        def soma(self):\n",
    "            soma = 0\n",
    "            for self.ListaNumero in lista:\n",
    "                soma += self.ListaNumero\n",
    "                return soma\n",
    "\n",
    "        def subtracao(self):\n",
    "            sub = 0\n",
    "            for self.ListaNumero in lista:\n",
    "                sub -= self.ListaNumero\n",
    "                return sub      \n",
    "\n",
    "        def multiplicacao(self):\n",
    "            mult = 0\n",
    "            for self.ListaNumero in lista:\n",
    "                mult *= self.ListaNumero\n",
    "                return mult        \n",
    "\n",
    "        def divisao(self):\n",
    "            div = 0\n",
    "            for self.ListaNumero in lista:\n",
    "                div /= self.ListaNumero\n",
    "                return div\n",
    "        "
   ]
  },
  {
   "cell_type": "code",
   "execution_count": 29,
   "metadata": {},
   "outputs": [
    {
     "ename": "TypeError",
     "evalue": "__init__() takes 1 positional argument but 2 were given",
     "output_type": "error",
     "traceback": [
      "\u001b[1;31m---------------------------------------------------------------------------\u001b[0m",
      "\u001b[1;31mTypeError\u001b[0m                                 Traceback (most recent call last)",
      "\u001b[1;32m<ipython-input-29-65378587a40b>\u001b[0m in \u001b[0;36m<module>\u001b[1;34m\u001b[0m\n\u001b[0;32m      1\u001b[0m \u001b[1;31m# Instanciamento\u001b[0m\u001b[1;33m\u001b[0m\u001b[1;33m\u001b[0m\u001b[1;33m\u001b[0m\u001b[0m\n\u001b[0;32m      2\u001b[0m \u001b[0mlista\u001b[0m \u001b[1;33m=\u001b[0m \u001b[1;33m[\u001b[0m\u001b[1;36m1\u001b[0m\u001b[1;33m,\u001b[0m\u001b[1;36m2\u001b[0m\u001b[1;33m,\u001b[0m\u001b[1;36m3\u001b[0m\u001b[1;33m]\u001b[0m\u001b[1;33m\u001b[0m\u001b[1;33m\u001b[0m\u001b[0m\n\u001b[1;32m----> 3\u001b[1;33m \u001b[0minstMat\u001b[0m \u001b[1;33m=\u001b[0m \u001b[0mMatematica\u001b[0m\u001b[1;33m(\u001b[0m\u001b[1;33m)\u001b[0m\u001b[1;33m.\u001b[0m\u001b[0mTrigonometrica\u001b[0m\u001b[1;33m(\u001b[0m\u001b[0mlista\u001b[0m\u001b[1;33m)\u001b[0m\u001b[1;33m.\u001b[0m\u001b[0mseno\u001b[0m\u001b[1;33m(\u001b[0m\u001b[1;33m)\u001b[0m\u001b[1;33m\u001b[0m\u001b[1;33m\u001b[0m\u001b[0m\n\u001b[0m\u001b[0;32m      4\u001b[0m \u001b[0mprint\u001b[0m\u001b[1;33m(\u001b[0m\u001b[0minstMat\u001b[0m\u001b[1;33m)\u001b[0m\u001b[1;33m\u001b[0m\u001b[1;33m\u001b[0m\u001b[0m\n",
      "\u001b[1;31mTypeError\u001b[0m: __init__() takes 1 positional argument but 2 were given"
     ]
    }
   ],
   "source": [
    "# Instanciamento\n",
    "lista = [1,2,3]\n",
    "instMat = Matematica().Trigonometrica(lista).seno()\n",
    "print(instMat)"
   ]
  },
  {
   "cell_type": "markdown",
   "metadata": {},
   "source": [
    "## 3) Dados 2 arrays, A e B, remova de A todo elemento pertencente a B"
   ]
  },
  {
   "cell_type": "code",
   "execution_count": 27,
   "metadata": {},
   "outputs": [
    {
     "data": {
      "text/plain": [
       "array([1, 2, 4])"
      ]
     },
     "execution_count": 27,
     "metadata": {},
     "output_type": "execute_result"
    }
   ],
   "source": [
    "# resposta 3\n",
    "import numpy as np\n",
    "A = np.array([1,2,3,4,5])\n",
    "B = np.array([5,3])\n",
    "C = np.setdiff1d(A,B)\n",
    "C\n",
    "\n"
   ]
  },
  {
   "cell_type": "markdown",
   "metadata": {},
   "source": [
    "## 4) Crie uma função que recebe um array, um inteiro n e um inteiro m e que retorne outro array contendo elementos que estão entre os valores n e m do array recebido pela função. "
   ]
  },
  {
   "cell_type": "code",
   "execution_count": 23,
   "metadata": {},
   "outputs": [
    {
     "data": {
      "text/plain": [
       "array([4, 5])"
      ]
     },
     "execution_count": 23,
     "metadata": {},
     "output_type": "execute_result"
    }
   ],
   "source": [
    "# resposta 4\n",
    "import numpy as np\n",
    "def Exec4(arr,n,m):  \n",
    "#outroArr = np.where((range(arr),n,m))\n",
    "#arr = np.array([5,4,8])\n",
    "#arr[2:6]\n",
    "#for i in arr:\n",
    "#    print(i)       \n",
    "#   return(outroArr)\n",
    "    outroArr = np.array(arr)\n",
    "    a = np.where(n == outroArr)\n",
    "    b = np.where(m == outroArr)\n",
    "    resultado = outroArr[n-1:m]\n",
    "    \n",
    "    return resultado\n",
    "\n",
    "\n",
    "lista = np.array([4,5,6,3])\n",
    "Exec4(lista,1,2)"
   ]
  },
  {
   "cell_type": "markdown",
   "metadata": {},
   "source": [
    "## 5) Escreva uma função que recebe um vetor e um inteiro. Compare cada elemento desse vetor com o número inteiro. Se o elemento do vetor for maior, retorne a diferença entre eles, caso contrário, retorne a soma."
   ]
  },
  {
   "cell_type": "code",
   "execution_count": 34,
   "metadata": {},
   "outputs": [
    {
     "data": {
      "text/plain": [
       "array([4, 5, 0])"
      ]
     },
     "execution_count": 34,
     "metadata": {},
     "output_type": "execute_result"
    }
   ],
   "source": [
    "# resposta 5\n",
    "def Exec5(lista,numero):\n",
    "   # np.in1d(lista,numero)\n",
    "    return(np.where(numero>lista, numero+lista, numero-lista))\n",
    "\n",
    "lista = np.array([1,2,3])\n",
    "Exec5(lista,3)"
   ]
  },
  {
   "cell_type": "markdown",
   "metadata": {},
   "source": [
    "## 6) Dada a seguinte matriz:\n",
    "    -> [ 8,1,7\n",
    "         4,3,9\n",
    "         5,2,6]\n",
    "## escreva uma função que retorne a matriz ordenada por um dos eixos. utilize a função built-in sorted para realizar a ordenação"
   ]
  },
  {
   "cell_type": "code",
   "execution_count": 57,
   "metadata": {},
   "outputs": [
    {
     "data": {
      "text/plain": [
       "array([[4, 1, 6],\n",
       "       [5, 2, 7],\n",
       "       [8, 3, 9]])"
      ]
     },
     "execution_count": 57,
     "metadata": {},
     "output_type": "execute_result"
    }
   ],
   "source": [
    "# resposta 6\n",
    "import numpy as np \n",
    "def Exec6(matriz):\n",
    "    arr = np.sort(matriz, axis = 0)         \n",
    "    return(arr)\n",
    "\n",
    "\n",
    "matriz = np.array([[8,1,7], [4,3,9],[5,2,6]])     \n",
    "Exec6(matriz)"
   ]
  },
  {
   "cell_type": "code",
   "execution_count": null,
   "metadata": {},
   "outputs": [],
   "source": []
  }
 ],
 "metadata": {
  "kernelspec": {
   "display_name": "Python 3",
   "language": "python",
   "name": "python3"
  },
  "language_info": {
   "codemirror_mode": {
    "name": "ipython",
    "version": 3
   },
   "file_extension": ".py",
   "mimetype": "text/x-python",
   "name": "python",
   "nbconvert_exporter": "python",
   "pygments_lexer": "ipython3",
   "version": "3.7.3"
  }
 },
 "nbformat": 4,
 "nbformat_minor": 4
}
