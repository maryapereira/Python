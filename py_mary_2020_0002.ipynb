{
 "cells": [
  {
   "cell_type": "markdown",
   "metadata": {},
   "source": [
    "# Exercícios"
   ]
  },
  {
   "cell_type": "markdown",
   "metadata": {},
   "source": [
    "## 1) Escreva uma função que verifique se há uma letra no começo de uma frase. Se houver, retorne True, caso contrário, retorne False. "
   ]
  },
  {
   "cell_type": "code",
   "execution_count": 24,
   "metadata": {},
   "outputs": [
    {
     "name": "stdout",
     "output_type": "stream",
     "text": [
      "False\n",
      "True\n"
     ]
    }
   ],
   "source": [
    "# resposta 1\n",
    "def VerPrimeiraLetra(s):\n",
    "    x = s[0]\n",
    "    if x.isalpha():\n",
    "        return True\n",
    "    else:\n",
    "        return False\n",
    "        \n",
    "print(VerPrimeiraLetra(\"2Teste\"))\n",
    "print(VerPrimeiraLetra(\"Teste\"))"
   ]
  },
  {
   "cell_type": "markdown",
   "metadata": {},
   "source": [
    "## 2) Reescreva a seguinte função usando:\n",
    "    -> map e lambda\n",
    "    -> list comprehension"
   ]
  },
  {
   "cell_type": "code",
   "execution_count": 25,
   "metadata": {},
   "outputs": [
    {
     "name": "stdout",
     "output_type": "stream",
     "text": [
      "[0, 1, 4, 9, 16, 25, 36, 49, 64, 81]\n"
     ]
    }
   ],
   "source": [
    "squares = []\n",
    "for x in range(10):\n",
    "    squares.append(x**2)\n",
    "    \n",
    "print(squares)"
   ]
  },
  {
   "cell_type": "code",
   "execution_count": 42,
   "metadata": {},
   "outputs": [
    {
     "name": "stdout",
     "output_type": "stream",
     "text": [
      "[0, 1, 4, 9, 16, 25, 36, 49, 64, 81]\n"
     ]
    }
   ],
   "source": [
    "# resposta 2-a\n",
    "def MapLambda():\n",
    "    squares = []\n",
    "    nums = []\n",
    "    for x in range(10):\n",
    "        nums.append(x)    \n",
    "    squares = list(map(lambda x: x**2, nums))\n",
    "    return(squares)\n",
    "\n",
    "print(MapLambda())\n",
    "\n"
   ]
  },
  {
   "cell_type": "code",
   "execution_count": 45,
   "metadata": {},
   "outputs": [
    {
     "name": "stdout",
     "output_type": "stream",
     "text": [
      "[0, 1, 4, 9, 16, 25, 36, 49, 64, 81]\n"
     ]
    }
   ],
   "source": [
    "# resposta 2-b\n",
    "def FunListComp():\n",
    "    S = [x**2 for x in range(0, 10)]\n",
    "    return(S)\n",
    "\n",
    "print(FunListComp()) "
   ]
  },
  {
   "cell_type": "markdown",
   "metadata": {},
   "source": [
    "## 3) Escreva em Python uma função que, dadas duas listas não vazias e de mesmo comprimento, retorne como resultado uma nova lista contendo em cada posição a soma dos elementos correspondentes nas duas listas recebidas.\n",
    "    -> l1 = [1,2,3,4,5]\n",
    "    -> l2 = [1,2,3,4,5]\n",
    "    -> resultado = [2,4,6,8,10]"
   ]
  },
  {
   "cell_type": "code",
   "execution_count": 67,
   "metadata": {},
   "outputs": [
    {
     "name": "stdout",
     "output_type": "stream",
     "text": [
      "[2, 4, 6, 8, 10]\n"
     ]
    }
   ],
   "source": [
    "# resposta 3\n",
    "def SomaListas(l1,l2):  \n",
    "     if len(l1) != 0 and len(l2) != 0:\n",
    "        D = [l1 + l2  for l1, l2 in zip(l1,l2)]    \n",
    "        return (D)\n",
    "     else: \n",
    "        return(\"Lista vazia\")\n",
    "    \n",
    "l1 = [1,2,3,4,5]\n",
    "l2 = [1,2,3,4,5]\n",
    "print(SomaListas(l1,l2))\n"
   ]
  },
  {
   "cell_type": "markdown",
   "metadata": {},
   "source": [
    "## 4) A amplitude de um vetor 3D é dado pela seguinte fórmula: $\\sqrt{x^2 + y^2 + z^2}$\n",
    "## Escreva uma função, usando lambda, que calcule a amplitude dos seguintes vetores:\n",
    "    -> (1,1,1) \n",
    "    -> (3,4,5)"
   ]
  },
  {
   "cell_type": "code",
   "execution_count": 23,
   "metadata": {},
   "outputs": [
    {
     "name": "stdout",
     "output_type": "stream",
     "text": [
      "1.7320508075688772\n",
      "7.0710678118654755\n"
     ]
    }
   ],
   "source": [
    "# resposta 4\n",
    "# import math\n",
    "# math.sqrt\n",
    "# a = [1,1,1] \n",
    "# b = [3,4,5]\n",
    "# c = [list(zip(a,b))]\n",
    "# print(c)\n",
    "\n",
    "#print(Ampl)\n",
    "#xy = list(zip(x, y))\n",
    "#print(xy)\n",
    "#Vampl = (x**2 + y**2 + z**2)\n",
    "#resultado = (math.sqrt, Vampl)\n",
    "#print(resultado)\n",
    "\n",
    "import math\n",
    "\n",
    "def famplitude(vetores):\n",
    "    amplitude = lambda x: math.sqrt((x[0] ** 2) + (x[1] ** 2) + (x[2] ** 2))\n",
    "\n",
    "    print(amplitude(vetores))\n",
    "        \n",
    "vetor1 = [1, 1, 1]\n",
    "vetor2 = [3, 4, 5]\n",
    "\n",
    "famplitude(vetor1)\n",
    "famplitude(vetor2)\n",
    "\n",
    "   "
   ]
  },
  {
   "cell_type": "markdown",
   "metadata": {},
   "source": [
    "## 5) Use reduce para criar uma função que calcule o fatorial de qualquer número n"
   ]
  },
  {
   "cell_type": "code",
   "execution_count": 32,
   "metadata": {},
   "outputs": [
    {
     "name": "stdout",
     "output_type": "stream",
     "text": [
      "2432902008176640000\n"
     ]
    }
   ],
   "source": [
    "# resposta 5\n",
    "#import functools, operator\n",
    "#functools.reduce(operator.mul, xrange(1, 6))\n",
    "from functools import reduce\n",
    "from operator import mul\n",
    "\n",
    "def fat3(n):\n",
    "    return reduce(mul, range(1, n+1), 1)\n",
    "\n",
    "print(fat3(20))"
   ]
  },
  {
   "cell_type": "markdown",
   "metadata": {},
   "source": [
    "## 6) Reescreva a função abaixo usando list comprehension:"
   ]
  },
  {
   "cell_type": "code",
   "execution_count": 60,
   "metadata": {},
   "outputs": [
    {
     "name": "stdout",
     "output_type": "stream",
     "text": [
      "[5, 5, 3, 5, 4, 4, 3]\n",
      "['the', 'quick', 'brown', 'fox', 'jumps', 'over', 'the', 'lazy', 'dog']\n",
      "None\n"
     ]
    }
   ],
   "source": [
    "#sentence = \"the quick brown fox jumps over the lazy dog\"\n",
    "#words = sentence.split()\n",
    "#word_lengths = []\n",
    "#for word in words:\n",
    "#      if word != \"the\":\n",
    "#          word_lengths.append(len(word))\n",
    "#print(words)\n",
    "#print(word_lengths)\n",
    "\n",
    "def listComp(vsentence):\n",
    "    words = sentence.split()\n",
    "    word_lengths = []\n",
    "    \n",
    "    [word_lengths.append(len(x)) for x in words if x != \"the\"]\n",
    "    \n",
    "    print(word_lengths)\n",
    "    print(words)\n",
    "    \n",
    "sentence = \"the quick brown fox jumps over the lazy dog\"\n",
    "print(listComp(sentence))"
   ]
  },
  {
   "cell_type": "markdown",
   "metadata": {},
   "source": [
    "## 7) Calcule o número de meses desde a data que o brasil foi descoberto. Considere um mês com 30 dias. Dia do descobrimento do Brasil 22/04/1500."
   ]
  },
  {
   "cell_type": "code",
   "execution_count": 79,
   "metadata": {},
   "outputs": [
    {
     "name": "stdout",
     "output_type": "stream",
     "text": [
      "6236.052456\n"
     ]
    }
   ],
   "source": [
    "# resposta 7\n",
    "from datetime import datetime\n",
    "def difMeses(vd1,vd2):\n",
    "    coeficienteMes = 0.0328767;\n",
    "    d2 = datetime.strptime(vd1, '%Y-%m-%d')\n",
    "    d1 = datetime.strptime(vd2, '%Y-%m-%d')\n",
    "    quantidade_dias = abs((d2 - d1).days)\n",
    "    meses = coeficienteMes*quantidade_dias\n",
    "    return(meses)\n",
    "\n",
    "d2 = '1500-04-22'\n",
    "d1 = '2019-08-19'\n",
    "\n",
    "print(difMeses(d1,d2))"
   ]
  },
  {
   "cell_type": "markdown",
   "metadata": {},
   "source": [
    "## 8) Implementar um programa que receba um nome de arquivo e gere estatísticas sobre o arquivo (número de caracteres, número de linhas e número de palavras)\n",
    "    -> verifique a existência do arquivo\n",
    "    -> crie um arquivo de texto fictício contendo 10 linhas"
   ]
  },
  {
   "cell_type": "code",
   "execution_count": 84,
   "metadata": {},
   "outputs": [],
   "source": [
    "arq = open('poesiavida.txt', 'w')\n",
    "texto = \"\"\"\n",
    "Posso ter defeitos, viver ansioso e ficar irritado algumas vezes, mas não esqueço que minha vida é a maior empresa do mundo. \n",
    "E que posso evitar que ela vá à falência.\n",
    "Ser feliz é reconhecer que vale a pena viver, apesar de todos os desafios, incompreensões e períodos de crise.\n",
    "Ser feliz é deixar de ser vítima dos problemas e se tornar autor da própria história.\n",
    "É atravessar desertos fora de si, mas ser capaz de encontrar um oásis no recôndito da sua alma.\n",
    "É agradecer a Deus a cada manhã pelo milagre da vida.\n",
    "Ser feliz é não ter medo dos próprios sentimentos. \n",
    "É saber falar de si mesmo. \n",
    "É ter coragem para ouvir um “não”. É ter segurança para receber uma crítica, mesmo que injusta.\n",
    "\n",
    "Augusto Cury\n",
    "\"\"\"\n",
    "arq.write(texto)\n",
    "arq.close()"
   ]
  },
  {
   "cell_type": "code",
   "execution_count": 93,
   "metadata": {},
   "outputs": [],
   "source": [
    "def EstatisticaTexto(arquivo):\n",
    "    #arq = open('poesiavida.txt', 'r')\n",
    "    arq = open(arquivo, 'r')\n",
    "    texto = arq.read()\n",
    "\n",
    "    listaCompleta = texto.split()\n",
    "    listaCaracteres = texto\n",
    "\n",
    "    caracteres = [caracter for caracter in listaCaracteres if caracter.isdigit() == False]\n",
    "    qtdCaracteres = len(caracteres)\n",
    "    #print('caracteres',qtdCaracteres)\n",
    "\n",
    "    n_linhas = sum(1 for linha in texto.split('\\n'))\n",
    "    #print('linhas',n_linhas)\n",
    "\n",
    "    palavras = [palavra for palavra in listaCompleta if palavra.isdigit() == False]\n",
    "    qtdPalavras = len(palavras)\n",
    "    #print('qtdPalavras',qtdPalavras)\n",
    "\n",
    "    arq.close()\n",
    "    Estatistica = 'Este texto possui: ' + str(qtdCaracteres) + ' caractetes, ' + str(n_linhas) + ' linhas e '+ str(qtdPalavras) + ' palavras.'\n",
    "    return(Estatistica)"
   ]
  },
  {
   "cell_type": "code",
   "execution_count": 94,
   "metadata": {},
   "outputs": [
    {
     "data": {
      "text/plain": [
       "'Este texto possui: 706 caractetes, 13 linhas e 129 palavras.'"
      ]
     },
     "execution_count": 94,
     "metadata": {},
     "output_type": "execute_result"
    }
   ],
   "source": [
    "EstatisticaTexto('poesiavida.txt')"
   ]
  },
  {
   "cell_type": "code",
   "execution_count": null,
   "metadata": {},
   "outputs": [],
   "source": []
  }
 ],
 "metadata": {
  "kernelspec": {
   "display_name": "Python 3",
   "language": "python",
   "name": "python3"
  },
  "language_info": {
   "codemirror_mode": {
    "name": "ipython",
    "version": 3
   },
   "file_extension": ".py",
   "mimetype": "text/x-python",
   "name": "python",
   "nbconvert_exporter": "python",
   "pygments_lexer": "ipython3",
   "version": "3.7.3"
  }
 },
 "nbformat": 4,
 "nbformat_minor": 4
}
